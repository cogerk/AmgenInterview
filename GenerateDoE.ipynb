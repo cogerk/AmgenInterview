{
 "cells": [
  {
   "cell_type": "markdown",
   "metadata": {},
   "source": [
    "# Generating Design of Experiments \n",
    "\n",
    "This is not an optmized method, but it is good enough for a simple 2 factor experiment like this one as long as we do some validation on our design as shown below."
   ]
  },
  {
   "cell_type": "markdown",
   "metadata": {},
   "source": [
    "#### Imports"
   ]
  },
  {
   "cell_type": "code",
   "execution_count": 6,
   "metadata": {},
   "outputs": [],
   "source": [
    "import numpy as np\n",
    "import pandas as pd"
   ]
  },
  {
   "cell_type": "markdown",
   "metadata": {},
   "source": [
    "#### Define design parameters\n",
    "\n",
    "- 2 factors with 3 and 4 levels\n",
    "- 18 tanks available\n",
    "- 2 replicates per condition"
   ]
  },
  {
   "cell_type": "code",
   "execution_count": 7,
   "metadata": {},
   "outputs": [],
   "source": [
    "levels = [3, 4]\n",
    "conditions = 18 // 2\n",
    "# Generate the full factorial design (3 levels x 4 levels)"
   ]
  },
  {
   "cell_type": "markdown",
   "metadata": {},
   "source": [
    "#### Generate your DOE\n",
    "\n",
    "We'll use pyDOE to generate the full factorial, and because this is a pretty simple experiment with only 2 levels, we're going to use the simplest method to generate the partial factorial: just select the first 9 conditions."
   ]
  },
  {
   "cell_type": "code",
   "execution_count": 8,
   "metadata": {},
   "outputs": [
    {
     "name": "stdout",
     "output_type": "stream",
     "text": [
      "Experimental Design:\n",
      "    Concentration A  Concentration B\n",
      "0                1               25\n",
      "1                1               20\n",
      "2                1               15\n",
      "3                8               20\n",
      "4                8               15\n",
      "5                8               10\n",
      "6                4               25\n",
      "7                8               25\n",
      "8                4               10\n"
     ]
    }
   ],
   "source": [
    "full_factorial = np.array(np.meshgrid(*[range(level) for level in levels])).T.reshape(\n",
    "    -1, len(levels)\n",
    ")\n",
    "\n",
    "# Since we need only 9 runs, select a subset using a fractional factorial approach\n",
    "np.random.seed(105)\n",
    "sampled_rows = np.random.choice(full_factorial.shape[0], size=9, replace=False)\n",
    "design_subset = full_factorial[sampled_rows]\n",
    "# sample 9 random values from an array\n",
    "\n",
    "\n",
    "# Convert numeric levels to conditions for better readability\n",
    "factor_1_conditions = [1, 4, 8]\n",
    "factor_2_conditions = [10, 15, 20, 25]\n",
    "\n",
    "# Map numeric levels to actual conditions\n",
    "design_subset[:, 0] = [factor_1_conditions[int(x)] for x in design_subset[:, 0]]\n",
    "design_subset[:, 1] = [factor_2_conditions[int(x)] for x in design_subset[:, 1]]\n",
    "\n",
    "# Convert to DataFrame for better readability\n",
    "design_df = pd.DataFrame(design_subset, columns=[\"Concentration A\", \"Concentration B\"])\n",
    "\n",
    "print(\"Experimental Design:\\n\", design_df)"
   ]
  },
  {
   "cell_type": "markdown",
   "metadata": {},
   "source": [
    "### Validate the DOE\n",
    "This seems crude, but we will calculate the **D-efficiency** of our experimental design to give us confidence that we are capturing as much information as possible.\n",
    "\n",
    "More complex experiments might require finding the design with the highest possible D-Efficiency, we call this **D-Optimal** score."
   ]
  },
  {
   "cell_type": "code",
   "execution_count": 9,
   "metadata": {},
   "outputs": [
    {
     "name": "stdout",
     "output_type": "stream",
     "text": [
      "D-efficiency: 99.54%\n"
     ]
    }
   ],
   "source": [
    "# Convert factors to numerical values for X matrix\n",
    "factor_1_numeric = pd.Categorical(design_df[\"Concentration A\"]).codes\n",
    "factor_2_numeric = pd.Categorical(design_df[\"Concentration B\"]).codes\n",
    "\n",
    "# Construct the design matrix X (including intercept)\n",
    "X = np.vstack((np.ones(len(factor_1_numeric)), factor_1_numeric, factor_2_numeric)).T\n",
    "\n",
    "# Calculate the determinant of X'X\n",
    "XtX = np.dot(X.T, X)\n",
    "det_XtX = np.linalg.det(XtX)\n",
    "\n",
    "# Calculate D-efficiency\n",
    "N = X.shape[0]  # Number of runs\n",
    "k = X.shape[1]  # Number of parameters\n",
    "d_efficiency = (det_XtX ** (1 / k)) / N\n",
    "d_efficiency_percentage = d_efficiency * 100\n",
    "\n",
    "print(f\"D-efficiency: {d_efficiency_percentage:.2f}%\")"
   ]
  },
  {
   "cell_type": "markdown",
   "metadata": {},
   "source": [
    "#### Include Replicates & Randomize \n",
    "\n",
    "We want to run this experiment with 2 replicates per condition, but we also need to randomize the order of our experimental design.This will avoid introducing any temporal/spatial biases."
   ]
  },
  {
   "cell_type": "code",
   "execution_count": 10,
   "metadata": {},
   "outputs": [
    {
     "data": {
      "text/html": [
       "<div>\n",
       "<style scoped>\n",
       "    .dataframe tbody tr th:only-of-type {\n",
       "        vertical-align: middle;\n",
       "    }\n",
       "\n",
       "    .dataframe tbody tr th {\n",
       "        vertical-align: top;\n",
       "    }\n",
       "\n",
       "    .dataframe thead th {\n",
       "        text-align: right;\n",
       "    }\n",
       "</style>\n",
       "<table border=\"1\" class=\"dataframe\">\n",
       "  <thead>\n",
       "    <tr style=\"text-align: right;\">\n",
       "      <th></th>\n",
       "      <th>Concentration A</th>\n",
       "      <th>Concentration B</th>\n",
       "    </tr>\n",
       "  </thead>\n",
       "  <tbody>\n",
       "    <tr>\n",
       "      <th>0</th>\n",
       "      <td>1</td>\n",
       "      <td>25</td>\n",
       "    </tr>\n",
       "    <tr>\n",
       "      <th>1</th>\n",
       "      <td>8</td>\n",
       "      <td>25</td>\n",
       "    </tr>\n",
       "    <tr>\n",
       "      <th>2</th>\n",
       "      <td>8</td>\n",
       "      <td>20</td>\n",
       "    </tr>\n",
       "    <tr>\n",
       "      <th>3</th>\n",
       "      <td>8</td>\n",
       "      <td>10</td>\n",
       "    </tr>\n",
       "    <tr>\n",
       "      <th>4</th>\n",
       "      <td>1</td>\n",
       "      <td>15</td>\n",
       "    </tr>\n",
       "    <tr>\n",
       "      <th>5</th>\n",
       "      <td>1</td>\n",
       "      <td>20</td>\n",
       "    </tr>\n",
       "    <tr>\n",
       "      <th>6</th>\n",
       "      <td>1</td>\n",
       "      <td>20</td>\n",
       "    </tr>\n",
       "    <tr>\n",
       "      <th>7</th>\n",
       "      <td>4</td>\n",
       "      <td>10</td>\n",
       "    </tr>\n",
       "    <tr>\n",
       "      <th>8</th>\n",
       "      <td>4</td>\n",
       "      <td>10</td>\n",
       "    </tr>\n",
       "    <tr>\n",
       "      <th>9</th>\n",
       "      <td>8</td>\n",
       "      <td>15</td>\n",
       "    </tr>\n",
       "    <tr>\n",
       "      <th>10</th>\n",
       "      <td>8</td>\n",
       "      <td>10</td>\n",
       "    </tr>\n",
       "    <tr>\n",
       "      <th>11</th>\n",
       "      <td>1</td>\n",
       "      <td>15</td>\n",
       "    </tr>\n",
       "    <tr>\n",
       "      <th>12</th>\n",
       "      <td>8</td>\n",
       "      <td>20</td>\n",
       "    </tr>\n",
       "    <tr>\n",
       "      <th>13</th>\n",
       "      <td>8</td>\n",
       "      <td>25</td>\n",
       "    </tr>\n",
       "    <tr>\n",
       "      <th>14</th>\n",
       "      <td>8</td>\n",
       "      <td>15</td>\n",
       "    </tr>\n",
       "    <tr>\n",
       "      <th>15</th>\n",
       "      <td>1</td>\n",
       "      <td>25</td>\n",
       "    </tr>\n",
       "    <tr>\n",
       "      <th>16</th>\n",
       "      <td>4</td>\n",
       "      <td>25</td>\n",
       "    </tr>\n",
       "    <tr>\n",
       "      <th>17</th>\n",
       "      <td>4</td>\n",
       "      <td>25</td>\n",
       "    </tr>\n",
       "  </tbody>\n",
       "</table>\n",
       "</div>"
      ],
      "text/plain": [
       "    Concentration A  Concentration B\n",
       "0                 1               25\n",
       "1                 8               25\n",
       "2                 8               20\n",
       "3                 8               10\n",
       "4                 1               15\n",
       "5                 1               20\n",
       "6                 1               20\n",
       "7                 4               10\n",
       "8                 4               10\n",
       "9                 8               15\n",
       "10                8               10\n",
       "11                1               15\n",
       "12                8               20\n",
       "13                8               25\n",
       "14                8               15\n",
       "15                1               25\n",
       "16                4               25\n",
       "17                4               25"
      ]
     },
     "execution_count": 10,
     "metadata": {},
     "output_type": "execute_result"
    }
   ],
   "source": [
    "experimental_df = pd.concat([design_df, design_df]).reset_index(drop=True)\n",
    "randomized_rows = np.random.permutation(experimental_df.index)\n",
    "randomized_df = experimental_df.loc[randomized_rows].reset_index(drop=True)\n",
    "randomized_df"
   ]
  }
 ],
 "metadata": {
  "kernelspec": {
   "display_name": ".venv",
   "language": "python",
   "name": "python3"
  },
  "language_info": {
   "codemirror_mode": {
    "name": "ipython",
    "version": 3
   },
   "file_extension": ".py",
   "mimetype": "text/x-python",
   "name": "python",
   "nbconvert_exporter": "python",
   "pygments_lexer": "ipython3",
   "version": "3.10.12"
  }
 },
 "nbformat": 4,
 "nbformat_minor": 2
}
